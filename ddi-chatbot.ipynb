{
 "cells": [
  {
   "cell_type": "markdown",
   "id": "dab185ee",
   "metadata": {
    "papermill": {
     "duration": 0.009089,
     "end_time": "2024-10-25T17:55:29.336927",
     "exception": false,
     "start_time": "2024-10-25T17:55:29.327838",
     "status": "completed"
    },
    "tags": []
   },
   "source": [
    "# This notebook demonstrates:\n",
    "* Building drug interaction AI chatbot\n",
    "* Finetuning Gemma2 model using LoRA technique\n",
    "* Implement RAG to provide context from reference text\n",
    "* Uses gradio as chatbot interface within the notebook"
   ]
  },
  {
   "cell_type": "code",
   "execution_count": 1,
   "id": "04990d41",
   "metadata": {
    "_cell_guid": "b1076dfc-b9ad-4769-8c92-a6c4dae69d19",
    "_uuid": "8f2839f25d086af736a60e9eeb907d3b93b6e0e5",
    "execution": {
     "iopub.execute_input": "2024-10-25T17:55:29.355805Z",
     "iopub.status.busy": "2024-10-25T17:55:29.355438Z",
     "iopub.status.idle": "2024-10-25T17:55:57.012925Z",
     "shell.execute_reply": "2024-10-25T17:55:57.011835Z"
    },
    "papermill": {
     "duration": 27.670203,
     "end_time": "2024-10-25T17:55:57.015436",
     "exception": false,
     "start_time": "2024-10-25T17:55:29.345233",
     "status": "completed"
    },
    "tags": []
   },
   "outputs": [],
   "source": [
    "# Install Keras, KerasNLP, and other dependencies.\n",
    "!pip install -q -U keras-nlp\n",
    "!pip install -q -U keras>=3"
   ]
  },
  {
   "cell_type": "code",
   "execution_count": 2,
   "id": "57d19451",
   "metadata": {
    "execution": {
     "iopub.execute_input": "2024-10-25T17:55:57.033542Z",
     "iopub.status.busy": "2024-10-25T17:55:57.033238Z",
     "iopub.status.idle": "2024-10-25T17:55:57.037909Z",
     "shell.execute_reply": "2024-10-25T17:55:57.037072Z"
    },
    "papermill": {
     "duration": 0.016046,
     "end_time": "2024-10-25T17:55:57.039912",
     "exception": false,
     "start_time": "2024-10-25T17:55:57.023866",
     "status": "completed"
    },
    "tags": []
   },
   "outputs": [],
   "source": [
    "# Select a backend\n",
    "import os\n",
    "\n",
    "os.environ[\"KERAS_BACKEND\"] = \"jax\"  # Or \"torch\" or \"tensorflow\".\n",
    "# Avoid memory fragmentation on JAX backend.\n",
    "os.environ[\"XLA_PYTHON_CLIENT_MEM_FRACTION\"]=\"1.00\""
   ]
  },
  {
   "cell_type": "code",
   "execution_count": 3,
   "id": "7fce86fa",
   "metadata": {
    "execution": {
     "iopub.execute_input": "2024-10-25T17:55:57.057522Z",
     "iopub.status.busy": "2024-10-25T17:55:57.057255Z",
     "iopub.status.idle": "2024-10-25T17:56:11.148273Z",
     "shell.execute_reply": "2024-10-25T17:56:11.147293Z"
    },
    "papermill": {
     "duration": 14.102543,
     "end_time": "2024-10-25T17:56:11.150554",
     "exception": false,
     "start_time": "2024-10-25T17:55:57.048011",
     "status": "completed"
    },
    "tags": []
   },
   "outputs": [],
   "source": [
    "# Import Keras and KerasNLP\n",
    "import keras\n",
    "import keras_nlp\n",
    "\n",
    "from IPython.display import Markdown\n",
    "import textwrap"
   ]
  },
  {
   "cell_type": "code",
   "execution_count": 4,
   "id": "27981f24",
   "metadata": {
    "execution": {
     "iopub.execute_input": "2024-10-25T17:56:11.168690Z",
     "iopub.status.busy": "2024-10-25T17:56:11.168178Z",
     "iopub.status.idle": "2024-10-25T17:56:11.203315Z",
     "shell.execute_reply": "2024-10-25T17:56:11.202575Z"
    },
    "papermill": {
     "duration": 0.046217,
     "end_time": "2024-10-25T17:56:11.205197",
     "exception": false,
     "start_time": "2024-10-25T17:56:11.158980",
     "status": "completed"
    },
    "tags": []
   },
   "outputs": [],
   "source": [
    "# Load and Preprocess the data.\n",
    "import json\n",
    "data = []\n",
    "with open('/kaggle/input/dd1-v1/drug_interactions_conversation.jsonl') as file:\n",
    "    for line in file:\n",
    "        features = json.loads(line)\n",
    "        # Filter out examples with context, to keep it simple.\n",
    "        #if features[\"context\"]:\n",
    "            #continue\n",
    "        # Format the entire example as a single string.\n",
    "        template = \"Instruction:\\n{instruction}\\n\\nResponse:\\n{response}\"\n",
    "        data.append(template.format(**features))"
   ]
  },
  {
   "cell_type": "code",
   "execution_count": 5,
   "id": "27cb29e4",
   "metadata": {
    "execution": {
     "iopub.execute_input": "2024-10-25T17:56:11.222899Z",
     "iopub.status.busy": "2024-10-25T17:56:11.222373Z",
     "iopub.status.idle": "2024-10-25T17:56:11.229079Z",
     "shell.execute_reply": "2024-10-25T17:56:11.228243Z"
    },
    "papermill": {
     "duration": 0.01762,
     "end_time": "2024-10-25T17:56:11.231024",
     "exception": false,
     "start_time": "2024-10-25T17:56:11.213404",
     "status": "completed"
    },
    "tags": []
   },
   "outputs": [
    {
     "data": {
      "text/plain": [
       "2315"
      ]
     },
     "execution_count": 5,
     "metadata": {},
     "output_type": "execute_result"
    }
   ],
   "source": [
    "len(data)"
   ]
  },
  {
   "cell_type": "code",
   "execution_count": 6,
   "id": "3ffb8e67",
   "metadata": {
    "execution": {
     "iopub.execute_input": "2024-10-25T17:56:11.248457Z",
     "iopub.status.busy": "2024-10-25T17:56:11.248187Z",
     "iopub.status.idle": "2024-10-25T17:57:12.651684Z",
     "shell.execute_reply": "2024-10-25T17:57:12.650802Z"
    },
    "papermill": {
     "duration": 61.414407,
     "end_time": "2024-10-25T17:57:12.653597",
     "exception": false,
     "start_time": "2024-10-25T17:56:11.239190",
     "status": "completed"
    },
    "tags": []
   },
   "outputs": [
    {
     "name": "stderr",
     "output_type": "stream",
     "text": [
      "normalizer.cc(51) LOG(INFO) precompiled_charsmap is empty. use identity normalization.\n"
     ]
    },
    {
     "data": {
      "text/html": [
       "<pre style=\"white-space:pre;overflow-x:auto;line-height:normal;font-family:Menlo,'DejaVu Sans Mono',consolas,'Courier New',monospace\"><span style=\"font-weight: bold\">Preprocessor: \"gemma_causal_lm_preprocessor\"</span>\n",
       "</pre>\n"
      ],
      "text/plain": [
       "\u001b[1mPreprocessor: \"gemma_causal_lm_preprocessor\"\u001b[0m\n"
      ]
     },
     "metadata": {},
     "output_type": "display_data"
    },
    {
     "data": {
      "text/html": [
       "<pre style=\"white-space:pre;overflow-x:auto;line-height:normal;font-family:Menlo,'DejaVu Sans Mono',consolas,'Courier New',monospace\">┏━━━━━━━━━━━━━━━━━━━━━━━━━━━━━━━━━━━━━━━━━━━━━━━━━━━━━━━━━━━━━━━┳━━━━━━━━━━━━━━━━━━━━━━━━━━━━━━━━━━━━━━━━━━┓\n",
       "┃<span style=\"font-weight: bold\"> Layer (type)                                                  </span>┃<span style=\"font-weight: bold\">                                   Config </span>┃\n",
       "┡━━━━━━━━━━━━━━━━━━━━━━━━━━━━━━━━━━━━━━━━━━━━━━━━━━━━━━━━━━━━━━━╇━━━━━━━━━━━━━━━━━━━━━━━━━━━━━━━━━━━━━━━━━━┩\n",
       "│ gemma_tokenizer (<span style=\"color: #0087ff; text-decoration-color: #0087ff\">GemmaTokenizer</span>)                              │                      Vocab size: <span style=\"color: #00af00; text-decoration-color: #00af00\">256,000</span> │\n",
       "└───────────────────────────────────────────────────────────────┴──────────────────────────────────────────┘\n",
       "</pre>\n"
      ],
      "text/plain": [
       "┏━━━━━━━━━━━━━━━━━━━━━━━━━━━━━━━━━━━━━━━━━━━━━━━━━━━━━━━━━━━━━━━┳━━━━━━━━━━━━━━━━━━━━━━━━━━━━━━━━━━━━━━━━━━┓\n",
       "┃\u001b[1m \u001b[0m\u001b[1mLayer (type)                                                 \u001b[0m\u001b[1m \u001b[0m┃\u001b[1m \u001b[0m\u001b[1m                                  Config\u001b[0m\u001b[1m \u001b[0m┃\n",
       "┡━━━━━━━━━━━━━━━━━━━━━━━━━━━━━━━━━━━━━━━━━━━━━━━━━━━━━━━━━━━━━━━╇━━━━━━━━━━━━━━━━━━━━━━━━━━━━━━━━━━━━━━━━━━┩\n",
       "│ gemma_tokenizer (\u001b[38;5;33mGemmaTokenizer\u001b[0m)                              │                      Vocab size: \u001b[38;5;34m256,000\u001b[0m │\n",
       "└───────────────────────────────────────────────────────────────┴──────────────────────────────────────────┘\n"
      ]
     },
     "metadata": {},
     "output_type": "display_data"
    },
    {
     "data": {
      "text/html": [
       "<pre style=\"white-space:pre;overflow-x:auto;line-height:normal;font-family:Menlo,'DejaVu Sans Mono',consolas,'Courier New',monospace\"><span style=\"font-weight: bold\">Model: \"gemma_causal_lm\"</span>\n",
       "</pre>\n"
      ],
      "text/plain": [
       "\u001b[1mModel: \"gemma_causal_lm\"\u001b[0m\n"
      ]
     },
     "metadata": {},
     "output_type": "display_data"
    },
    {
     "data": {
      "text/html": [
       "<pre style=\"white-space:pre;overflow-x:auto;line-height:normal;font-family:Menlo,'DejaVu Sans Mono',consolas,'Courier New',monospace\">┏━━━━━━━━━━━━━━━━━━━━━━━━━━━━━━━┳━━━━━━━━━━━━━━━━━━━━━━━━━━━┳━━━━━━━━━━━━━━━━━┳━━━━━━━━━━━━━━━━━━━━━━━━━━━━┓\n",
       "┃<span style=\"font-weight: bold\"> Layer (type)                  </span>┃<span style=\"font-weight: bold\"> Output Shape              </span>┃<span style=\"font-weight: bold\">         Param # </span>┃<span style=\"font-weight: bold\"> Connected to               </span>┃\n",
       "┡━━━━━━━━━━━━━━━━━━━━━━━━━━━━━━━╇━━━━━━━━━━━━━━━━━━━━━━━━━━━╇━━━━━━━━━━━━━━━━━╇━━━━━━━━━━━━━━━━━━━━━━━━━━━━┩\n",
       "│ padding_mask (<span style=\"color: #0087ff; text-decoration-color: #0087ff\">InputLayer</span>)     │ (<span style=\"color: #00d7ff; text-decoration-color: #00d7ff\">None</span>, <span style=\"color: #00d7ff; text-decoration-color: #00d7ff\">None</span>)              │               <span style=\"color: #00af00; text-decoration-color: #00af00\">0</span> │ -                          │\n",
       "├───────────────────────────────┼───────────────────────────┼─────────────────┼────────────────────────────┤\n",
       "│ token_ids (<span style=\"color: #0087ff; text-decoration-color: #0087ff\">InputLayer</span>)        │ (<span style=\"color: #00d7ff; text-decoration-color: #00d7ff\">None</span>, <span style=\"color: #00d7ff; text-decoration-color: #00d7ff\">None</span>)              │               <span style=\"color: #00af00; text-decoration-color: #00af00\">0</span> │ -                          │\n",
       "├───────────────────────────────┼───────────────────────────┼─────────────────┼────────────────────────────┤\n",
       "│ gemma_backbone                │ (<span style=\"color: #00d7ff; text-decoration-color: #00d7ff\">None</span>, <span style=\"color: #00d7ff; text-decoration-color: #00d7ff\">None</span>, <span style=\"color: #00af00; text-decoration-color: #00af00\">2304</span>)        │   <span style=\"color: #00af00; text-decoration-color: #00af00\">2,614,341,888</span> │ padding_mask[<span style=\"color: #00af00; text-decoration-color: #00af00\">0</span>][<span style=\"color: #00af00; text-decoration-color: #00af00\">0</span>],        │\n",
       "│ (<span style=\"color: #0087ff; text-decoration-color: #0087ff\">GemmaBackbone</span>)               │                           │                 │ token_ids[<span style=\"color: #00af00; text-decoration-color: #00af00\">0</span>][<span style=\"color: #00af00; text-decoration-color: #00af00\">0</span>]            │\n",
       "├───────────────────────────────┼───────────────────────────┼─────────────────┼────────────────────────────┤\n",
       "│ token_embedding               │ (<span style=\"color: #00d7ff; text-decoration-color: #00d7ff\">None</span>, <span style=\"color: #00d7ff; text-decoration-color: #00d7ff\">None</span>, <span style=\"color: #00af00; text-decoration-color: #00af00\">256000</span>)      │     <span style=\"color: #00af00; text-decoration-color: #00af00\">589,824,000</span> │ gemma_backbone[<span style=\"color: #00af00; text-decoration-color: #00af00\">0</span>][<span style=\"color: #00af00; text-decoration-color: #00af00\">0</span>]       │\n",
       "│ (<span style=\"color: #0087ff; text-decoration-color: #0087ff\">ReversibleEmbedding</span>)         │                           │                 │                            │\n",
       "└───────────────────────────────┴───────────────────────────┴─────────────────┴────────────────────────────┘\n",
       "</pre>\n"
      ],
      "text/plain": [
       "┏━━━━━━━━━━━━━━━━━━━━━━━━━━━━━━━┳━━━━━━━━━━━━━━━━━━━━━━━━━━━┳━━━━━━━━━━━━━━━━━┳━━━━━━━━━━━━━━━━━━━━━━━━━━━━┓\n",
       "┃\u001b[1m \u001b[0m\u001b[1mLayer (type)                 \u001b[0m\u001b[1m \u001b[0m┃\u001b[1m \u001b[0m\u001b[1mOutput Shape             \u001b[0m\u001b[1m \u001b[0m┃\u001b[1m \u001b[0m\u001b[1m        Param #\u001b[0m\u001b[1m \u001b[0m┃\u001b[1m \u001b[0m\u001b[1mConnected to              \u001b[0m\u001b[1m \u001b[0m┃\n",
       "┡━━━━━━━━━━━━━━━━━━━━━━━━━━━━━━━╇━━━━━━━━━━━━━━━━━━━━━━━━━━━╇━━━━━━━━━━━━━━━━━╇━━━━━━━━━━━━━━━━━━━━━━━━━━━━┩\n",
       "│ padding_mask (\u001b[38;5;33mInputLayer\u001b[0m)     │ (\u001b[38;5;45mNone\u001b[0m, \u001b[38;5;45mNone\u001b[0m)              │               \u001b[38;5;34m0\u001b[0m │ -                          │\n",
       "├───────────────────────────────┼───────────────────────────┼─────────────────┼────────────────────────────┤\n",
       "│ token_ids (\u001b[38;5;33mInputLayer\u001b[0m)        │ (\u001b[38;5;45mNone\u001b[0m, \u001b[38;5;45mNone\u001b[0m)              │               \u001b[38;5;34m0\u001b[0m │ -                          │\n",
       "├───────────────────────────────┼───────────────────────────┼─────────────────┼────────────────────────────┤\n",
       "│ gemma_backbone                │ (\u001b[38;5;45mNone\u001b[0m, \u001b[38;5;45mNone\u001b[0m, \u001b[38;5;34m2304\u001b[0m)        │   \u001b[38;5;34m2,614,341,888\u001b[0m │ padding_mask[\u001b[38;5;34m0\u001b[0m][\u001b[38;5;34m0\u001b[0m],        │\n",
       "│ (\u001b[38;5;33mGemmaBackbone\u001b[0m)               │                           │                 │ token_ids[\u001b[38;5;34m0\u001b[0m][\u001b[38;5;34m0\u001b[0m]            │\n",
       "├───────────────────────────────┼───────────────────────────┼─────────────────┼────────────────────────────┤\n",
       "│ token_embedding               │ (\u001b[38;5;45mNone\u001b[0m, \u001b[38;5;45mNone\u001b[0m, \u001b[38;5;34m256000\u001b[0m)      │     \u001b[38;5;34m589,824,000\u001b[0m │ gemma_backbone[\u001b[38;5;34m0\u001b[0m][\u001b[38;5;34m0\u001b[0m]       │\n",
       "│ (\u001b[38;5;33mReversibleEmbedding\u001b[0m)         │                           │                 │                            │\n",
       "└───────────────────────────────┴───────────────────────────┴─────────────────┴────────────────────────────┘\n"
      ]
     },
     "metadata": {},
     "output_type": "display_data"
    },
    {
     "data": {
      "text/html": [
       "<pre style=\"white-space:pre;overflow-x:auto;line-height:normal;font-family:Menlo,'DejaVu Sans Mono',consolas,'Courier New',monospace\"><span style=\"font-weight: bold\"> Total params: </span><span style=\"color: #00af00; text-decoration-color: #00af00\">2,614,341,888</span> (9.74 GB)\n",
       "</pre>\n"
      ],
      "text/plain": [
       "\u001b[1m Total params: \u001b[0m\u001b[38;5;34m2,614,341,888\u001b[0m (9.74 GB)\n"
      ]
     },
     "metadata": {},
     "output_type": "display_data"
    },
    {
     "data": {
      "text/html": [
       "<pre style=\"white-space:pre;overflow-x:auto;line-height:normal;font-family:Menlo,'DejaVu Sans Mono',consolas,'Courier New',monospace\"><span style=\"font-weight: bold\"> Trainable params: </span><span style=\"color: #00af00; text-decoration-color: #00af00\">2,614,341,888</span> (9.74 GB)\n",
       "</pre>\n"
      ],
      "text/plain": [
       "\u001b[1m Trainable params: \u001b[0m\u001b[38;5;34m2,614,341,888\u001b[0m (9.74 GB)\n"
      ]
     },
     "metadata": {},
     "output_type": "display_data"
    },
    {
     "data": {
      "text/html": [
       "<pre style=\"white-space:pre;overflow-x:auto;line-height:normal;font-family:Menlo,'DejaVu Sans Mono',consolas,'Courier New',monospace\"><span style=\"font-weight: bold\"> Non-trainable params: </span><span style=\"color: #00af00; text-decoration-color: #00af00\">0</span> (0.00 B)\n",
       "</pre>\n"
      ],
      "text/plain": [
       "\u001b[1m Non-trainable params: \u001b[0m\u001b[38;5;34m0\u001b[0m (0.00 B)\n"
      ]
     },
     "metadata": {},
     "output_type": "display_data"
    }
   ],
   "source": [
    "gemma_lm = keras_nlp.models.GemmaCausalLM.from_preset(\"gemma2_instruct_2b_en\")\n",
    "gemma_lm.summary()"
   ]
  },
  {
   "cell_type": "code",
   "execution_count": 7,
   "id": "ec753d59",
   "metadata": {
    "execution": {
     "iopub.execute_input": "2024-10-25T17:57:12.673896Z",
     "iopub.status.busy": "2024-10-25T17:57:12.673555Z",
     "iopub.status.idle": "2024-10-25T17:57:12.691261Z",
     "shell.execute_reply": "2024-10-25T17:57:12.690233Z"
    },
    "papermill": {
     "duration": 0.029946,
     "end_time": "2024-10-25T17:57:12.693220",
     "exception": false,
     "start_time": "2024-10-25T17:57:12.663274",
     "status": "completed"
    },
    "tags": []
   },
   "outputs": [
    {
     "name": "stdout",
     "output_type": "stream",
     "text": [
      "CPU times: user 14.5 ms, sys: 240 µs, total: 14.8 ms\n",
      "Wall time: 12.5 ms\n"
     ]
    }
   ],
   "source": [
    "%%time\n",
    "# sample the softmax probabilities of the model\n",
    "sampler = keras_nlp.samplers.TopKSampler(k=5, seed=2)\n",
    "gemma_lm.compile(sampler=sampler)"
   ]
  },
  {
   "cell_type": "code",
   "execution_count": 8,
   "id": "2778371a",
   "metadata": {
    "execution": {
     "iopub.execute_input": "2024-10-25T17:57:12.713386Z",
     "iopub.status.busy": "2024-10-25T17:57:12.713084Z",
     "iopub.status.idle": "2024-10-25T17:57:12.719614Z",
     "shell.execute_reply": "2024-10-25T17:57:12.718805Z"
    },
    "papermill": {
     "duration": 0.018882,
     "end_time": "2024-10-25T17:57:12.721599",
     "exception": false,
     "start_time": "2024-10-25T17:57:12.702717",
     "status": "completed"
    },
    "tags": []
   },
   "outputs": [],
   "source": [
    "# Define a helper function\n",
    "def display_chat(prompt, response):\n",
    "  '''Displays an LLM prompt and response in a pretty way.'''\n",
    "  prompt = prompt.replace('\\n\\n','<br><br>')\n",
    "  prompt = prompt.replace('\\n','<br>')\n",
    "  formatted_prompt = \"<font size='+1' color='brown'>🙋‍♂️<blockquote>\" + prompt + \"</blockquote></font>\"\n",
    "  response = response.replace('•', '  *')\n",
    "  response = textwrap.indent(response, '', predicate=lambda _: True)\n",
    "  response = response.replace('\\n\\n','<br><br>')\n",
    "  response = response.replace('\\n','<br>')\n",
    "  response = response.replace(\"```\",\"\")\n",
    "  formatted_text = \"<font size='+1' color='teal'>🤖<blockquote>\" + response + \"</blockquote></font>\"\n",
    "  return Markdown(formatted_prompt+formatted_text)"
   ]
  },
  {
   "cell_type": "markdown",
   "id": "5fc271a4",
   "metadata": {
    "papermill": {
     "duration": 0.011557,
     "end_time": "2024-10-25T17:57:12.742645",
     "exception": false,
     "start_time": "2024-10-25T17:57:12.731088",
     "status": "completed"
    },
    "tags": []
   },
   "source": [
    "## Inference before fine tuning"
   ]
  },
  {
   "cell_type": "markdown",
   "id": "21635b85",
   "metadata": {
    "papermill": {
     "duration": 0.01307,
     "end_time": "2024-10-25T17:57:12.768474",
     "exception": false,
     "start_time": "2024-10-25T17:57:12.755404",
     "status": "completed"
    },
    "tags": []
   },
   "source": [
    "### Potential Drug Interaction Prompt\n",
    "Query the model on inquiries related to potential drug interaction"
   ]
  },
  {
   "cell_type": "code",
   "execution_count": 9,
   "id": "19f63776",
   "metadata": {
    "execution": {
     "iopub.execute_input": "2024-10-25T17:57:12.792688Z",
     "iopub.status.busy": "2024-10-25T17:57:12.792368Z",
     "iopub.status.idle": "2024-10-25T17:57:46.410250Z",
     "shell.execute_reply": "2024-10-25T17:57:46.409289Z"
    },
    "papermill": {
     "duration": 33.641298,
     "end_time": "2024-10-25T17:57:46.421540",
     "exception": false,
     "start_time": "2024-10-25T17:57:12.780242",
     "status": "completed"
    },
    "tags": []
   },
   "outputs": [
    {
     "name": "stdout",
     "output_type": "stream",
     "text": [
      "CPU times: user 33.3 s, sys: 365 ms, total: 33.7 s\n",
      "Wall time: 33.6 s\n"
     ]
    },
    {
     "data": {
      "text/markdown": [
       "<font size='+1' color='brown'>🙋‍♂️<blockquote>Can I take fluconazole with my simvastatin medication?</blockquote></font><font size='+1' color='teal'>🤖<blockquote><br><br>Please note: I'm not a medical professional. This information is not medical advice. Always consult your doctor or pharmacist for personalized medical advice.<br><br><br>**Fluconazole and Simvastatin:**<br><br>* **Fluconazole is an antifungal medication.** It's commonly used to treat fungal infections like yeast infections and candidiasis. <br>* **Simvastatin is a statin medication.** It's used to lower cholesterol levels and reduce the risk of heart disease and stroke.<br><br>**Potential Interactions:**<br><br>While fluconazole and simvastatin are generally safe to take together, there is a theoretical risk of interaction.  Simvastatin may increase the levels of some medications, including fluconazole. This is because they are both processed through the liver and may compete for the same enzymes.<br><br>**Important Considerations:**<br><br>* **Your doctor or pharmacist should be consulted** for personalized advice regarding medication interactions. They will consider your individual medical history, current health condition, and other medications you are taking to advise on the best course of action.<br>* **Never change your medication dosage or stop taking it without consulting your doctor.**<br>* **Report any side effects** to your doctor or pharmacist immediately.<br><br>**Conclusion:**<br><br>While there is no evidence of a significant interaction between fluconazole and simvastatin in typical use cases, it's always best to speak to your healthcare provider for personalized advice. They can provide the most accurate and up-to-date information on potential drug interactions. <br><end_of_turn></blockquote></font>"
      ],
      "text/plain": [
       "<IPython.core.display.Markdown object>"
      ]
     },
     "execution_count": 9,
     "metadata": {},
     "output_type": "execute_result"
    }
   ],
   "source": [
    "%%time\n",
    "# Have the model complete a \"raw\" prompt with no formatting\n",
    "prompt = \"Can I take fluconazole with my simvastatin medication?\"\n",
    "completion = gemma_lm.generate(prompt,max_length=1024)\n",
    "response = completion.replace(prompt, \"\")\n",
    "display_chat(prompt, response)"
   ]
  },
  {
   "cell_type": "markdown",
   "id": "7e909aec",
   "metadata": {
    "papermill": {
     "duration": 0.009579,
     "end_time": "2024-10-25T17:57:46.441168",
     "exception": false,
     "start_time": "2024-10-25T17:57:46.431589",
     "status": "completed"
    },
    "tags": []
   },
   "source": [
    "### Adverse Effect Drug Interaction Prompt\n",
    "Prompt the model to identify drugs that can interact with Goserelin."
   ]
  },
  {
   "cell_type": "code",
   "execution_count": 10,
   "id": "7fc2b74b",
   "metadata": {
    "execution": {
     "iopub.execute_input": "2024-10-25T17:57:46.461787Z",
     "iopub.status.busy": "2024-10-25T17:57:46.461427Z",
     "iopub.status.idle": "2024-10-25T17:57:58.978483Z",
     "shell.execute_reply": "2024-10-25T17:57:58.977511Z"
    },
    "papermill": {
     "duration": 12.529627,
     "end_time": "2024-10-25T17:57:58.980440",
     "exception": false,
     "start_time": "2024-10-25T17:57:46.450813",
     "status": "completed"
    },
    "tags": []
   },
   "outputs": [
    {
     "data": {
      "text/markdown": [
       "<font size='+1' color='brown'>🙋‍♂️<blockquote>Instruction:<br>Which drugs would result in severe adverse effect when used with Goserelin?<br><br>Response:<br></blockquote></font><font size='+1' color='teal'>🤖<blockquote>I cannot provide medical advice. <br><br>**Important Considerations:**<br><br>* **Goserelin is a prescription medication:**  It should only be taken under the supervision of a medical professional. <br>* **Drug interactions can be complex:** They depend on individual patient factors, the dosage of each drug, and the specific formulation.<br>* **Serious side effects can occur:** It's essential to be aware of possible interactions and report any unusual symptoms immediately to a healthcare provider.<br><br><br>**Where to find reliable information:**<br><br>* **Your doctor:** They have access to your medical history and are best equipped to assess your specific situation.<br>* **The manufacturer's website:** You can find detailed information about Goserelin, including potential drug interactions.  <br>* **Reputable medical websites:** Such as the Mayo Clinic, NHS, or the American Cancer Society.<br><br><br>Remember, your health is paramount. Always consult with your doctor before making any changes in your treatment plan. <br><end_of_turn></blockquote></font>"
      ],
      "text/plain": [
       "<IPython.core.display.Markdown object>"
      ]
     },
     "execution_count": 10,
     "metadata": {},
     "output_type": "execute_result"
    }
   ],
   "source": [
    "prompt = template.format(\n",
    "    instruction=\"Which drugs would result in severe adverse effect when used with Goserelin?\",\n",
    "    response=\"\",\n",
    ")\n",
    "completion = gemma_lm.generate(prompt)\n",
    "response = completion.replace(prompt, \"\")\n",
    "display_chat(prompt, response)"
   ]
  },
  {
   "cell_type": "markdown",
   "id": "a18e70e9",
   "metadata": {
    "papermill": {
     "duration": 0.009808,
     "end_time": "2024-10-25T17:57:59.000503",
     "exception": false,
     "start_time": "2024-10-25T17:57:58.990695",
     "status": "completed"
    },
    "tags": []
   },
   "source": [
    "## LoRA Fine-tuning"
   ]
  },
  {
   "cell_type": "code",
   "execution_count": 11,
   "id": "f5e34df7",
   "metadata": {
    "execution": {
     "iopub.execute_input": "2024-10-25T17:57:59.021985Z",
     "iopub.status.busy": "2024-10-25T17:57:59.021630Z",
     "iopub.status.idle": "2024-10-25T17:57:59.329478Z",
     "shell.execute_reply": "2024-10-25T17:57:59.328528Z"
    },
    "papermill": {
     "duration": 0.320987,
     "end_time": "2024-10-25T17:57:59.331458",
     "exception": false,
     "start_time": "2024-10-25T17:57:59.010471",
     "status": "completed"
    },
    "tags": []
   },
   "outputs": [
    {
     "data": {
      "text/html": [
       "<pre style=\"white-space:pre;overflow-x:auto;line-height:normal;font-family:Menlo,'DejaVu Sans Mono',consolas,'Courier New',monospace\"><span style=\"font-weight: bold\">Preprocessor: \"gemma_causal_lm_preprocessor\"</span>\n",
       "</pre>\n"
      ],
      "text/plain": [
       "\u001b[1mPreprocessor: \"gemma_causal_lm_preprocessor\"\u001b[0m\n"
      ]
     },
     "metadata": {},
     "output_type": "display_data"
    },
    {
     "data": {
      "text/html": [
       "<pre style=\"white-space:pre;overflow-x:auto;line-height:normal;font-family:Menlo,'DejaVu Sans Mono',consolas,'Courier New',monospace\">┏━━━━━━━━━━━━━━━━━━━━━━━━━━━━━━━━━━━━━━━━━━━━━━━━━━━━━━━━━━━━━━━┳━━━━━━━━━━━━━━━━━━━━━━━━━━━━━━━━━━━━━━━━━━┓\n",
       "┃<span style=\"font-weight: bold\"> Layer (type)                                                  </span>┃<span style=\"font-weight: bold\">                                   Config </span>┃\n",
       "┡━━━━━━━━━━━━━━━━━━━━━━━━━━━━━━━━━━━━━━━━━━━━━━━━━━━━━━━━━━━━━━━╇━━━━━━━━━━━━━━━━━━━━━━━━━━━━━━━━━━━━━━━━━━┩\n",
       "│ gemma_tokenizer (<span style=\"color: #0087ff; text-decoration-color: #0087ff\">GemmaTokenizer</span>)                              │                      Vocab size: <span style=\"color: #00af00; text-decoration-color: #00af00\">256,000</span> │\n",
       "└───────────────────────────────────────────────────────────────┴──────────────────────────────────────────┘\n",
       "</pre>\n"
      ],
      "text/plain": [
       "┏━━━━━━━━━━━━━━━━━━━━━━━━━━━━━━━━━━━━━━━━━━━━━━━━━━━━━━━━━━━━━━━┳━━━━━━━━━━━━━━━━━━━━━━━━━━━━━━━━━━━━━━━━━━┓\n",
       "┃\u001b[1m \u001b[0m\u001b[1mLayer (type)                                                 \u001b[0m\u001b[1m \u001b[0m┃\u001b[1m \u001b[0m\u001b[1m                                  Config\u001b[0m\u001b[1m \u001b[0m┃\n",
       "┡━━━━━━━━━━━━━━━━━━━━━━━━━━━━━━━━━━━━━━━━━━━━━━━━━━━━━━━━━━━━━━━╇━━━━━━━━━━━━━━━━━━━━━━━━━━━━━━━━━━━━━━━━━━┩\n",
       "│ gemma_tokenizer (\u001b[38;5;33mGemmaTokenizer\u001b[0m)                              │                      Vocab size: \u001b[38;5;34m256,000\u001b[0m │\n",
       "└───────────────────────────────────────────────────────────────┴──────────────────────────────────────────┘\n"
      ]
     },
     "metadata": {},
     "output_type": "display_data"
    },
    {
     "data": {
      "text/html": [
       "<pre style=\"white-space:pre;overflow-x:auto;line-height:normal;font-family:Menlo,'DejaVu Sans Mono',consolas,'Courier New',monospace\"><span style=\"font-weight: bold\">Model: \"gemma_causal_lm\"</span>\n",
       "</pre>\n"
      ],
      "text/plain": [
       "\u001b[1mModel: \"gemma_causal_lm\"\u001b[0m\n"
      ]
     },
     "metadata": {},
     "output_type": "display_data"
    },
    {
     "data": {
      "text/html": [
       "<pre style=\"white-space:pre;overflow-x:auto;line-height:normal;font-family:Menlo,'DejaVu Sans Mono',consolas,'Courier New',monospace\">┏━━━━━━━━━━━━━━━━━━━━━━━━━━━━━━━┳━━━━━━━━━━━━━━━━━━━━━━━━━━━┳━━━━━━━━━━━━━━━━━┳━━━━━━━━━━━━━━━━━━━━━━━━━━━━┓\n",
       "┃<span style=\"font-weight: bold\"> Layer (type)                  </span>┃<span style=\"font-weight: bold\"> Output Shape              </span>┃<span style=\"font-weight: bold\">         Param # </span>┃<span style=\"font-weight: bold\"> Connected to               </span>┃\n",
       "┡━━━━━━━━━━━━━━━━━━━━━━━━━━━━━━━╇━━━━━━━━━━━━━━━━━━━━━━━━━━━╇━━━━━━━━━━━━━━━━━╇━━━━━━━━━━━━━━━━━━━━━━━━━━━━┩\n",
       "│ padding_mask (<span style=\"color: #0087ff; text-decoration-color: #0087ff\">InputLayer</span>)     │ (<span style=\"color: #00d7ff; text-decoration-color: #00d7ff\">None</span>, <span style=\"color: #00d7ff; text-decoration-color: #00d7ff\">None</span>)              │               <span style=\"color: #00af00; text-decoration-color: #00af00\">0</span> │ -                          │\n",
       "├───────────────────────────────┼───────────────────────────┼─────────────────┼────────────────────────────┤\n",
       "│ token_ids (<span style=\"color: #0087ff; text-decoration-color: #0087ff\">InputLayer</span>)        │ (<span style=\"color: #00d7ff; text-decoration-color: #00d7ff\">None</span>, <span style=\"color: #00d7ff; text-decoration-color: #00d7ff\">None</span>)              │               <span style=\"color: #00af00; text-decoration-color: #00af00\">0</span> │ -                          │\n",
       "├───────────────────────────────┼───────────────────────────┼─────────────────┼────────────────────────────┤\n",
       "│ gemma_backbone                │ (<span style=\"color: #00d7ff; text-decoration-color: #00d7ff\">None</span>, <span style=\"color: #00d7ff; text-decoration-color: #00d7ff\">None</span>, <span style=\"color: #00af00; text-decoration-color: #00af00\">2304</span>)        │   <span style=\"color: #00af00; text-decoration-color: #00af00\">2,617,270,528</span> │ padding_mask[<span style=\"color: #00af00; text-decoration-color: #00af00\">0</span>][<span style=\"color: #00af00; text-decoration-color: #00af00\">0</span>],        │\n",
       "│ (<span style=\"color: #0087ff; text-decoration-color: #0087ff\">GemmaBackbone</span>)               │                           │                 │ token_ids[<span style=\"color: #00af00; text-decoration-color: #00af00\">0</span>][<span style=\"color: #00af00; text-decoration-color: #00af00\">0</span>]            │\n",
       "├───────────────────────────────┼───────────────────────────┼─────────────────┼────────────────────────────┤\n",
       "│ token_embedding               │ (<span style=\"color: #00d7ff; text-decoration-color: #00d7ff\">None</span>, <span style=\"color: #00d7ff; text-decoration-color: #00d7ff\">None</span>, <span style=\"color: #00af00; text-decoration-color: #00af00\">256000</span>)      │     <span style=\"color: #00af00; text-decoration-color: #00af00\">589,824,000</span> │ gemma_backbone[<span style=\"color: #00af00; text-decoration-color: #00af00\">0</span>][<span style=\"color: #00af00; text-decoration-color: #00af00\">0</span>]       │\n",
       "│ (<span style=\"color: #0087ff; text-decoration-color: #0087ff\">ReversibleEmbedding</span>)         │                           │                 │                            │\n",
       "└───────────────────────────────┴───────────────────────────┴─────────────────┴────────────────────────────┘\n",
       "</pre>\n"
      ],
      "text/plain": [
       "┏━━━━━━━━━━━━━━━━━━━━━━━━━━━━━━━┳━━━━━━━━━━━━━━━━━━━━━━━━━━━┳━━━━━━━━━━━━━━━━━┳━━━━━━━━━━━━━━━━━━━━━━━━━━━━┓\n",
       "┃\u001b[1m \u001b[0m\u001b[1mLayer (type)                 \u001b[0m\u001b[1m \u001b[0m┃\u001b[1m \u001b[0m\u001b[1mOutput Shape             \u001b[0m\u001b[1m \u001b[0m┃\u001b[1m \u001b[0m\u001b[1m        Param #\u001b[0m\u001b[1m \u001b[0m┃\u001b[1m \u001b[0m\u001b[1mConnected to              \u001b[0m\u001b[1m \u001b[0m┃\n",
       "┡━━━━━━━━━━━━━━━━━━━━━━━━━━━━━━━╇━━━━━━━━━━━━━━━━━━━━━━━━━━━╇━━━━━━━━━━━━━━━━━╇━━━━━━━━━━━━━━━━━━━━━━━━━━━━┩\n",
       "│ padding_mask (\u001b[38;5;33mInputLayer\u001b[0m)     │ (\u001b[38;5;45mNone\u001b[0m, \u001b[38;5;45mNone\u001b[0m)              │               \u001b[38;5;34m0\u001b[0m │ -                          │\n",
       "├───────────────────────────────┼───────────────────────────┼─────────────────┼────────────────────────────┤\n",
       "│ token_ids (\u001b[38;5;33mInputLayer\u001b[0m)        │ (\u001b[38;5;45mNone\u001b[0m, \u001b[38;5;45mNone\u001b[0m)              │               \u001b[38;5;34m0\u001b[0m │ -                          │\n",
       "├───────────────────────────────┼───────────────────────────┼─────────────────┼────────────────────────────┤\n",
       "│ gemma_backbone                │ (\u001b[38;5;45mNone\u001b[0m, \u001b[38;5;45mNone\u001b[0m, \u001b[38;5;34m2304\u001b[0m)        │   \u001b[38;5;34m2,617,270,528\u001b[0m │ padding_mask[\u001b[38;5;34m0\u001b[0m][\u001b[38;5;34m0\u001b[0m],        │\n",
       "│ (\u001b[38;5;33mGemmaBackbone\u001b[0m)               │                           │                 │ token_ids[\u001b[38;5;34m0\u001b[0m][\u001b[38;5;34m0\u001b[0m]            │\n",
       "├───────────────────────────────┼───────────────────────────┼─────────────────┼────────────────────────────┤\n",
       "│ token_embedding               │ (\u001b[38;5;45mNone\u001b[0m, \u001b[38;5;45mNone\u001b[0m, \u001b[38;5;34m256000\u001b[0m)      │     \u001b[38;5;34m589,824,000\u001b[0m │ gemma_backbone[\u001b[38;5;34m0\u001b[0m][\u001b[38;5;34m0\u001b[0m]       │\n",
       "│ (\u001b[38;5;33mReversibleEmbedding\u001b[0m)         │                           │                 │                            │\n",
       "└───────────────────────────────┴───────────────────────────┴─────────────────┴────────────────────────────┘\n"
      ]
     },
     "metadata": {},
     "output_type": "display_data"
    },
    {
     "data": {
      "text/html": [
       "<pre style=\"white-space:pre;overflow-x:auto;line-height:normal;font-family:Menlo,'DejaVu Sans Mono',consolas,'Courier New',monospace\"><span style=\"font-weight: bold\"> Total params: </span><span style=\"color: #00af00; text-decoration-color: #00af00\">2,617,270,528</span> (9.75 GB)\n",
       "</pre>\n"
      ],
      "text/plain": [
       "\u001b[1m Total params: \u001b[0m\u001b[38;5;34m2,617,270,528\u001b[0m (9.75 GB)\n"
      ]
     },
     "metadata": {},
     "output_type": "display_data"
    },
    {
     "data": {
      "text/html": [
       "<pre style=\"white-space:pre;overflow-x:auto;line-height:normal;font-family:Menlo,'DejaVu Sans Mono',consolas,'Courier New',monospace\"><span style=\"font-weight: bold\"> Trainable params: </span><span style=\"color: #00af00; text-decoration-color: #00af00\">2,928,640</span> (11.17 MB)\n",
       "</pre>\n"
      ],
      "text/plain": [
       "\u001b[1m Trainable params: \u001b[0m\u001b[38;5;34m2,928,640\u001b[0m (11.17 MB)\n"
      ]
     },
     "metadata": {},
     "output_type": "display_data"
    },
    {
     "data": {
      "text/html": [
       "<pre style=\"white-space:pre;overflow-x:auto;line-height:normal;font-family:Menlo,'DejaVu Sans Mono',consolas,'Courier New',monospace\"><span style=\"font-weight: bold\"> Non-trainable params: </span><span style=\"color: #00af00; text-decoration-color: #00af00\">2,614,341,888</span> (9.74 GB)\n",
       "</pre>\n"
      ],
      "text/plain": [
       "\u001b[1m Non-trainable params: \u001b[0m\u001b[38;5;34m2,614,341,888\u001b[0m (9.74 GB)\n"
      ]
     },
     "metadata": {},
     "output_type": "display_data"
    }
   ],
   "source": [
    "# Enable LoRA for the model and set the LoRA rank to 4.\n",
    "gemma_lm.backbone.enable_lora(rank=4)\n",
    "gemma_lm.summary()"
   ]
  },
  {
   "cell_type": "markdown",
   "id": "e8a2b029",
   "metadata": {
    "papermill": {
     "duration": 0.01098,
     "end_time": "2024-10-25T17:57:59.353785",
     "exception": false,
     "start_time": "2024-10-25T17:57:59.342805",
     "status": "completed"
    },
    "tags": []
   },
   "source": [
    "LoRA reduces the number of trainable parameters significantly (from 2.6 billion to 2.9 million)."
   ]
  },
  {
   "cell_type": "code",
   "execution_count": 12,
   "id": "000eace5",
   "metadata": {
    "execution": {
     "iopub.execute_input": "2024-10-25T17:57:59.377645Z",
     "iopub.status.busy": "2024-10-25T17:57:59.377326Z",
     "iopub.status.idle": "2024-10-25T23:03:09.204453Z",
     "shell.execute_reply": "2024-10-25T23:03:09.203528Z"
    },
    "papermill": {
     "duration": 18309.8413,
     "end_time": "2024-10-25T23:03:09.206345",
     "exception": false,
     "start_time": "2024-10-25T17:57:59.365045",
     "status": "completed"
    },
    "tags": []
   },
   "outputs": [
    {
     "name": "stdout",
     "output_type": "stream",
     "text": [
      "Epoch 1/10\n",
      "\u001b[1m2315/2315\u001b[0m \u001b[32m━━━━━━━━━━━━━━━━━━━━\u001b[0m\u001b[37m\u001b[0m \u001b[1m1872s\u001b[0m 794ms/step - loss: 0.4025 - sparse_categorical_accuracy: 0.7477\n",
      "Epoch 2/10\n",
      "\u001b[1m2315/2315\u001b[0m \u001b[32m━━━━━━━━━━━━━━━━━━━━\u001b[0m\u001b[37m\u001b[0m \u001b[1m1841s\u001b[0m 787ms/step - loss: 0.2047 - sparse_categorical_accuracy: 0.8295\n",
      "Epoch 3/10\n",
      "\u001b[1m2315/2315\u001b[0m \u001b[32m━━━━━━━━━━━━━━━━━━━━\u001b[0m\u001b[37m\u001b[0m \u001b[1m1824s\u001b[0m 787ms/step - loss: 0.1871 - sparse_categorical_accuracy: 0.8385\n",
      "Epoch 4/10\n",
      "\u001b[1m2315/2315\u001b[0m \u001b[32m━━━━━━━━━━━━━━━━━━━━\u001b[0m\u001b[37m\u001b[0m \u001b[1m1824s\u001b[0m 787ms/step - loss: 0.1766 - sparse_categorical_accuracy: 0.8448\n",
      "Epoch 5/10\n",
      "\u001b[1m2315/2315\u001b[0m \u001b[32m━━━━━━━━━━━━━━━━━━━━\u001b[0m\u001b[37m\u001b[0m \u001b[1m1824s\u001b[0m 787ms/step - loss: 0.1683 - sparse_categorical_accuracy: 0.8501\n",
      "Epoch 6/10\n",
      "\u001b[1m2315/2315\u001b[0m \u001b[32m━━━━━━━━━━━━━━━━━━━━\u001b[0m\u001b[37m\u001b[0m \u001b[1m1824s\u001b[0m 788ms/step - loss: 0.1610 - sparse_categorical_accuracy: 0.8555\n",
      "Epoch 7/10\n",
      "\u001b[1m2315/2315\u001b[0m \u001b[32m━━━━━━━━━━━━━━━━━━━━\u001b[0m\u001b[37m\u001b[0m \u001b[1m1824s\u001b[0m 787ms/step - loss: 0.1541 - sparse_categorical_accuracy: 0.8599\n",
      "Epoch 8/10\n",
      "\u001b[1m2315/2315\u001b[0m \u001b[32m━━━━━━━━━━━━━━━━━━━━\u001b[0m\u001b[37m\u001b[0m \u001b[1m1826s\u001b[0m 788ms/step - loss: 0.1475 - sparse_categorical_accuracy: 0.8652\n",
      "Epoch 9/10\n",
      "\u001b[1m2315/2315\u001b[0m \u001b[32m━━━━━━━━━━━━━━━━━━━━\u001b[0m\u001b[37m\u001b[0m \u001b[1m1825s\u001b[0m 788ms/step - loss: 0.1411 - sparse_categorical_accuracy: 0.8709\n",
      "Epoch 10/10\n",
      "\u001b[1m2315/2315\u001b[0m \u001b[32m━━━━━━━━━━━━━━━━━━━━\u001b[0m\u001b[37m\u001b[0m \u001b[1m1825s\u001b[0m 788ms/step - loss: 0.1346 - sparse_categorical_accuracy: 0.8765\n",
      "CPU times: user 2h 46min 27s, sys: 2h 22min 59s, total: 5h 9min 26s\n",
      "Wall time: 5h 5min 9s\n"
     ]
    },
    {
     "data": {
      "text/plain": [
       "<keras.src.callbacks.history.History at 0x7f3164369c60>"
      ]
     },
     "execution_count": 12,
     "metadata": {},
     "output_type": "execute_result"
    }
   ],
   "source": [
    "%%time\n",
    "# Limit the input sequence length to 256 (to control memory usage).\n",
    "gemma_lm.preprocessor.sequence_length = 256\n",
    "# Use AdamW (a common optimizer for transformer models).\n",
    "optimizer = keras.optimizers.AdamW(\n",
    "    learning_rate=5e-5,\n",
    "    weight_decay=0.01,\n",
    ")\n",
    "# Exclude layernorm and bias terms from decay.\n",
    "optimizer.exclude_from_weight_decay(var_names=[\"bias\", \"scale\"])\n",
    "\n",
    "gemma_lm.compile(\n",
    "    loss=keras.losses.SparseCategoricalCrossentropy(from_logits=True),\n",
    "    optimizer=optimizer,\n",
    "    weighted_metrics=[keras.metrics.SparseCategoricalAccuracy()],\n",
    ")\n",
    "gemma_lm.fit(data, epochs=10, batch_size=1)"
   ]
  },
  {
   "cell_type": "markdown",
   "id": "8a8ba436",
   "metadata": {
    "papermill": {
     "duration": 1.989012,
     "end_time": "2024-10-25T23:03:13.147276",
     "exception": false,
     "start_time": "2024-10-25T23:03:11.158264",
     "status": "completed"
    },
    "tags": []
   },
   "source": [
    "## Inference after fine-tuning\n",
    "After fine-tuning, responses follow the instruction provided in the prompt."
   ]
  },
  {
   "cell_type": "markdown",
   "id": "0d80969b",
   "metadata": {
    "papermill": {
     "duration": 1.952099,
     "end_time": "2024-10-25T23:03:17.099045",
     "exception": false,
     "start_time": "2024-10-25T23:03:15.146946",
     "status": "completed"
    },
    "tags": []
   },
   "source": [
    "### Drug Interaction Prompt"
   ]
  },
  {
   "cell_type": "code",
   "execution_count": 13,
   "id": "bae95099",
   "metadata": {
    "execution": {
     "iopub.execute_input": "2024-10-25T23:03:21.010197Z",
     "iopub.status.busy": "2024-10-25T23:03:21.009807Z",
     "iopub.status.idle": "2024-10-25T23:04:49.622914Z",
     "shell.execute_reply": "2024-10-25T23:04:49.621919Z"
    },
    "papermill": {
     "duration": 92.574622,
     "end_time": "2024-10-25T23:04:51.636908",
     "exception": false,
     "start_time": "2024-10-25T23:03:19.062286",
     "status": "completed"
    },
    "tags": []
   },
   "outputs": [
    {
     "name": "stdout",
     "output_type": "stream",
     "text": [
      "CPU times: user 1min 28s, sys: 324 ms, total: 1min 28s\n",
      "Wall time: 1min 28s\n"
     ]
    },
    {
     "data": {
      "text/markdown": [
       "<font size='+1' color='brown'>🙋‍♂️<blockquote>Can I take fluconazole with my simvastatin?</blockquote></font><font size='+1' color='teal'>🤖<blockquote><br><br>Fluconazole and simvastatin are both prescribed for infections and cholesterol, respectively. However, they can increase the risk of muscle pain and rhabdomyolysis.<br><br>Consult your doctor to discuss the risks and benefits of combining these medications.<br>You should not take fluconazole with simvastatin without consulting your doctor.<br>It's important to monitor for muscle pain or weakness while on these medications.<br>You should not take fluconazole with simvastatin without consulting your doctor.<br>It's important to monitor for muscle pain or weakness while on these medications.<br>You should not take fluconazole with simvastatin without consulting your doctor.<br>It's important to monitor for muscle pain or weakness while on these medications.<br>You should not take fluconazole with simvastatin without consulting your doctor.<br>It's important to monitor for muscle pain or weakness while on these medications.<br>You should not take fluconazole with simvastatin without consulting your doctor.<br>It's important to monitor for muscle pain or weakness while on these medications.<br>You should not take fluconazole with simvastatin without consulting your doctor.<br>It's important to monitor for muscle pain or weakness while on these medications.<br>You should not take fluconazole with simvastatin without consulting your doctor.<br>It's important to monitor for muscle pain or weakness while on these medications.<br>You should not take fluconazole with simvastatin without consulting your doctor.<br>It's important to monitor for muscle pain or weakness while on these medications.<br>You should not take fluconazole with simvastatin without consulting your doctor.<br>It's important to monitor for muscle pain or weakness while on these medications.<br>You should not take fluconazole with simvastatin without consulting your doctor.<br>It's important to monitor for muscle pain or weakness while on these medications.<br>You should not take fluconazole with simvastatin without consulting your doctor.<br>It's important to monitor for muscle pain or weakness while on these medications.<br>You should not take fluconazole with simvastatin without consulting your doctor.<br>It's important to monitor for muscle pain or weakness while on these medications.<br>You should not take fluconazole with simvastatin without consulting your doctor.<br>It's important to monitor for muscle pain or weakness while on these medications.<br>You should not take fluconazole with simvastatin without consulting your doctor.<br>It's important to monitor for muscle pain or weakness while on these medications.<br>You should not take fluconazole with simvastatin without consulting your doctor.<br>It's important to monitor for muscle pain or weakness while on these medications.<br>You should not take fluconazole with simvastatin without consulting your doctor.<br>It's important to monitor for muscle pain or weakness while on these medications.<br>You should not take fluconazole with simvastatin without consulting your doctor.<br>It's important to monitor for muscle pain or weakness while on these medications.<br>You should not take fluconazole with simvastatin without consulting your doctor.<br>It's important to monitor for muscle pain or weakness while on these medications.<br>You should not take fluconazole with simvastatin without consulting your doctor.<br>It's important to monitor for muscle pain or weakness while on these medications.<br>You should not take fluconazole with simvastatin without consulting your doctor.<br>It's important to monitor for muscle pain or weakness while on these medications.<br>You should not take fluconazole with simvastatin without consulting your doctor.<br>It's important to monitor for muscle pain or weakness while on these medications.<br>You should not take fluconazole with simvastatin without consulting your doctor.<br>It's important to monitor for muscle pain or weakness while on these medications.<br>You should not take fluconazole with simvastatin without consulting your doctor.<br>It's important to monitor for muscle pain or weakness while on these medications.<br>You should not take fluconazole with simvastatin without consulting your doctor.<br>It's important to monitor for muscle pain or weakness while on these medications.<br>You should not take fluconazole with simvastatin without consulting your doctor.<br>It's important to monitor for muscle pain or weakness while on these medications.<br>You should not take fluconazole with simvastatin without consulting your doctor.<br>It's important to monitor for muscle pain or weakness while on these medications.<br>You should not take fluconazole with simvastatin without consulting your doctor.<br>It's important to monitor for muscle pain or weakness while on these medications.<br>You should not take fluconazole with simvastatin without consulting your doctor.<br>It's important to monitor for muscle pain or weakness while on these medications.<br>You should not take fluconazole with simvastatin without consulting your doctor.<br>It's important to monitor for muscle pain or weakness while on these medications.<br>You should not take fluconazole with simvastatin without consulting your doctor.<br>It's important to monitor for muscle pain or weakness while on these medications.<br>You should not take</blockquote></font>"
      ],
      "text/plain": [
       "<IPython.core.display.Markdown object>"
      ]
     },
     "execution_count": 13,
     "metadata": {},
     "output_type": "execute_result"
    }
   ],
   "source": [
    "%%time\n",
    "# Have the fine-tuned model complete a \"raw\" prompt with no formatting\n",
    "prompt = \"Can I take fluconazole with my simvastatin?\"\n",
    "completion = gemma_lm.generate(prompt,max_length=1024)\n",
    "response = completion.replace(prompt, \"\")\n",
    "display_chat(prompt, response)"
   ]
  },
  {
   "cell_type": "code",
   "execution_count": 14,
   "id": "56ac775e",
   "metadata": {
    "execution": {
     "iopub.execute_input": "2024-10-25T23:04:55.496958Z",
     "iopub.status.busy": "2024-10-25T23:04:55.496259Z",
     "iopub.status.idle": "2024-10-25T23:05:13.549476Z",
     "shell.execute_reply": "2024-10-25T23:05:13.548497Z"
    },
    "papermill": {
     "duration": 19.996918,
     "end_time": "2024-10-25T23:05:13.551461",
     "exception": false,
     "start_time": "2024-10-25T23:04:53.554543",
     "status": "completed"
    },
    "tags": []
   },
   "outputs": [
    {
     "name": "stdout",
     "output_type": "stream",
     "text": [
      "CPU times: user 18.1 s, sys: 349 ms, total: 18.4 s\n",
      "Wall time: 18 s\n"
     ]
    },
    {
     "data": {
      "text/markdown": [
       "<font size='+1' color='brown'>🙋‍♂️<blockquote>Instruction:<br>Can I take fluconazole with my simvastatin?<br><br>Response:<br></blockquote></font><font size='+1' color='teal'>🤖<blockquote>Fluconazole can increase the levels of simvastatin in your blood, which may raise the risk of side effects such as muscle pain or rhabdomyolysis. You should consult your doctor to discuss the risks and benefits of combining these medications.</blockquote></font>"
      ],
      "text/plain": [
       "<IPython.core.display.Markdown object>"
      ]
     },
     "execution_count": 14,
     "metadata": {},
     "output_type": "execute_result"
    }
   ],
   "source": [
    "%%time\n",
    "# Have the fine-tuned model complete a formatted prompt\n",
    "prompt = template.format(\n",
    "    instruction=\"Can I take fluconazole with my simvastatin?\",\n",
    "    response=\"\",\n",
    ")\n",
    "completion = gemma_lm.generate(prompt)\n",
    "response = completion.replace(prompt, \"\")\n",
    "display_chat(prompt, response)"
   ]
  },
  {
   "cell_type": "markdown",
   "id": "d0687794",
   "metadata": {
    "papermill": {
     "duration": 1.989507,
     "end_time": "2024-10-25T23:05:17.486558",
     "exception": false,
     "start_time": "2024-10-25T23:05:15.497051",
     "status": "completed"
    },
    "tags": []
   },
   "source": [
    "### Adverse Effect Drug Interaction Prompt\n",
    "Prompt the fine-tuned model to identify drugs that can interact with Goserelin."
   ]
  },
  {
   "cell_type": "code",
   "execution_count": 15,
   "id": "54836be7",
   "metadata": {
    "execution": {
     "iopub.execute_input": "2024-10-25T23:05:21.438624Z",
     "iopub.status.busy": "2024-10-25T23:05:21.437760Z",
     "iopub.status.idle": "2024-10-25T23:05:25.734925Z",
     "shell.execute_reply": "2024-10-25T23:05:25.733787Z"
    },
    "papermill": {
     "duration": 6.298355,
     "end_time": "2024-10-25T23:05:25.737431",
     "exception": false,
     "start_time": "2024-10-25T23:05:19.439076",
     "status": "completed"
    },
    "tags": []
   },
   "outputs": [
    {
     "name": "stdout",
     "output_type": "stream",
     "text": [
      "Instruction:\n",
      "Which drugs would result in severe adverse effect when used with Goserelin?\n",
      "\n",
      "Response:\n",
      "Goserelin is used to treat breast and prostate cancer. Combining it with medications that affect calcium levels, such as bisphosphonates, can increase the risk of hypercalcemia. Additionally, combining it with diuretics can lead to hyponatremia. Consult your doctor for further guidance.\n"
     ]
    }
   ],
   "source": [
    "prompt = template.format(\n",
    "    instruction=\"Which drugs would result in severe adverse effect when used with Goserelin?\",\n",
    "    response=\"\",\n",
    ")\n",
    "print(gemma_lm.generate(prompt, max_length=256))"
   ]
  },
  {
   "cell_type": "code",
   "execution_count": 16,
   "id": "92a542b0",
   "metadata": {
    "execution": {
     "iopub.execute_input": "2024-10-25T23:05:29.663109Z",
     "iopub.status.busy": "2024-10-25T23:05:29.662693Z",
     "iopub.status.idle": "2024-10-25T23:05:33.947721Z",
     "shell.execute_reply": "2024-10-25T23:05:33.946807Z"
    },
    "papermill": {
     "duration": 6.240953,
     "end_time": "2024-10-25T23:05:33.949783",
     "exception": false,
     "start_time": "2024-10-25T23:05:27.708830",
     "status": "completed"
    },
    "tags": []
   },
   "outputs": [
    {
     "data": {
      "text/markdown": [
       "<font size='+1' color='brown'>🙋‍♂️<blockquote>Instruction:<br>Which drugs would result in severe adverse effect when used with Goserelin?<br><br>Response:<br></blockquote></font><font size='+1' color='teal'>🤖<blockquote>Goserelin is used to treat breast and prostate cancer. Combining it with medications that affect calcium levels, such as bisphosphonates, can increase the risk of hypercalcemia. Additionally, combining it with diuretics can lead to hyponatremia. Consult your doctor for further guidance.</blockquote></font>"
      ],
      "text/plain": [
       "<IPython.core.display.Markdown object>"
      ]
     },
     "execution_count": 16,
     "metadata": {},
     "output_type": "execute_result"
    }
   ],
   "source": [
    "prompt = template.format(\n",
    "    instruction=\"Which drugs would result in severe adverse effect when used with Goserelin?\",\n",
    "    response=\"\",\n",
    ")\n",
    "completion = gemma_lm.generate(prompt)\n",
    "response = completion.replace(prompt, \"\")\n",
    "display_chat(prompt, response)"
   ]
  },
  {
   "cell_type": "markdown",
   "id": "eef17cef",
   "metadata": {
    "papermill": {
     "duration": 1.904466,
     "end_time": "2024-10-25T23:05:37.866913",
     "exception": false,
     "start_time": "2024-10-25T23:05:35.962447",
     "status": "completed"
    },
    "tags": []
   },
   "source": [
    "## Saving the finetuned model"
   ]
  },
  {
   "cell_type": "code",
   "execution_count": 17,
   "id": "54ca0429",
   "metadata": {
    "execution": {
     "iopub.execute_input": "2024-10-25T23:05:41.785529Z",
     "iopub.status.busy": "2024-10-25T23:05:41.784622Z",
     "iopub.status.idle": "2024-10-25T23:09:22.400141Z",
     "shell.execute_reply": "2024-10-25T23:09:22.399294Z"
    },
    "papermill": {
     "duration": 222.592153,
     "end_time": "2024-10-25T23:09:22.402115",
     "exception": false,
     "start_time": "2024-10-25T23:05:39.809962",
     "status": "completed"
    },
    "tags": []
   },
   "outputs": [
    {
     "name": "stdout",
     "output_type": "stream",
     "text": [
      "Uploading Model https://www.kaggle.com/models/rukayatadedeji/bert/keras/ddi_gemma2_e10 ...\n",
      "Warning: Looks like you're using an outdated `kagglehub` version, please consider updating (latest version: 0.3.3)\n",
      "Starting upload for file ./ddi_gemma2_e10/tokenizer.json\n",
      "Warning: Looks like you're using an outdated `kagglehub` version, please consider updating (latest version: 0.3.3)\n"
     ]
    },
    {
     "name": "stderr",
     "output_type": "stream",
     "text": [
      "Uploading: 100%|██████████| 591/591 [00:00<00:00, 945B/s]"
     ]
    },
    {
     "name": "stdout",
     "output_type": "stream",
     "text": [
      "Upload successful: ./ddi_gemma2_e10/tokenizer.json (591B)\n",
      "Starting upload for file ./ddi_gemma2_e10/preprocessor.json\n"
     ]
    },
    {
     "name": "stderr",
     "output_type": "stream",
     "text": [
      "\n"
     ]
    },
    {
     "name": "stdout",
     "output_type": "stream",
     "text": [
      "Warning: Looks like you're using an outdated `kagglehub` version, please consider updating (latest version: 0.3.3)\n"
     ]
    },
    {
     "name": "stderr",
     "output_type": "stream",
     "text": [
      "Uploading: 100%|██████████| 1.41k/1.41k [00:00<00:00, 2.39kB/s]"
     ]
    },
    {
     "name": "stdout",
     "output_type": "stream",
     "text": [
      "Upload successful: ./ddi_gemma2_e10/preprocessor.json (1KB)\n",
      "Starting upload for file ./ddi_gemma2_e10/task.json\n"
     ]
    },
    {
     "name": "stderr",
     "output_type": "stream",
     "text": [
      "\n"
     ]
    },
    {
     "name": "stdout",
     "output_type": "stream",
     "text": [
      "Warning: Looks like you're using an outdated `kagglehub` version, please consider updating (latest version: 0.3.3)\n"
     ]
    },
    {
     "name": "stderr",
     "output_type": "stream",
     "text": [
      "Uploading: 100%|██████████| 2.98k/2.98k [00:00<00:00, 4.68kB/s]"
     ]
    },
    {
     "name": "stdout",
     "output_type": "stream",
     "text": [
      "Upload successful: ./ddi_gemma2_e10/task.json (3KB)\n",
      "Starting upload for file ./ddi_gemma2_e10/metadata.json\n"
     ]
    },
    {
     "name": "stderr",
     "output_type": "stream",
     "text": [
      "\n"
     ]
    },
    {
     "name": "stdout",
     "output_type": "stream",
     "text": [
      "Warning: Looks like you're using an outdated `kagglehub` version, please consider updating (latest version: 0.3.3)\n"
     ]
    },
    {
     "name": "stderr",
     "output_type": "stream",
     "text": [
      "Uploading: 100%|██████████| 143/143 [00:00<00:00, 225B/s]"
     ]
    },
    {
     "name": "stdout",
     "output_type": "stream",
     "text": [
      "Upload successful: ./ddi_gemma2_e10/metadata.json (143B)\n",
      "Starting upload for file ./ddi_gemma2_e10/config.json\n"
     ]
    },
    {
     "name": "stderr",
     "output_type": "stream",
     "text": [
      "\n"
     ]
    },
    {
     "name": "stdout",
     "output_type": "stream",
     "text": [
      "Warning: Looks like you're using an outdated `kagglehub` version, please consider updating (latest version: 0.3.3)\n"
     ]
    },
    {
     "name": "stderr",
     "output_type": "stream",
     "text": [
      "Uploading: 100%|██████████| 782/782 [00:00<00:00, 1.28kB/s]"
     ]
    },
    {
     "name": "stdout",
     "output_type": "stream",
     "text": [
      "Upload successful: ./ddi_gemma2_e10/config.json (782B)\n",
      "Starting upload for file ./ddi_gemma2_e10/model.weights.h5\n"
     ]
    },
    {
     "name": "stderr",
     "output_type": "stream",
     "text": [
      "\n"
     ]
    },
    {
     "name": "stdout",
     "output_type": "stream",
     "text": [
      "Warning: Looks like you're using an outdated `kagglehub` version, please consider updating (latest version: 0.3.3)\n"
     ]
    },
    {
     "name": "stderr",
     "output_type": "stream",
     "text": [
      "Uploading: 100%|██████████| 10.5G/10.5G [02:52<00:00, 60.7MB/s]"
     ]
    },
    {
     "name": "stdout",
     "output_type": "stream",
     "text": [
      "Upload successful: ./ddi_gemma2_e10/model.weights.h5 (10GB)\n",
      "Starting upload for file ./ddi_gemma2_e10/assets/tokenizer/vocabulary.spm\n"
     ]
    },
    {
     "name": "stderr",
     "output_type": "stream",
     "text": [
      "\n"
     ]
    },
    {
     "name": "stdout",
     "output_type": "stream",
     "text": [
      "Warning: Looks like you're using an outdated `kagglehub` version, please consider updating (latest version: 0.3.3)\n"
     ]
    },
    {
     "name": "stderr",
     "output_type": "stream",
     "text": [
      "Uploading: 100%|██████████| 4.24M/4.24M [00:00<00:00, 5.64MB/s]"
     ]
    },
    {
     "name": "stdout",
     "output_type": "stream",
     "text": [
      "Upload successful: ./ddi_gemma2_e10/assets/tokenizer/vocabulary.spm (4MB)\n"
     ]
    },
    {
     "name": "stderr",
     "output_type": "stream",
     "text": [
      "\n"
     ]
    },
    {
     "name": "stdout",
     "output_type": "stream",
     "text": [
      "Warning: Looks like you're using an outdated `kagglehub` version, please consider updating (latest version: 0.3.3)\n",
      "Your model instance has been created.\n",
      "Files are being processed...\n",
      "See at: https://www.kaggle.com/models/rukayatadedeji/bert/keras/ddi_gemma2_e10\n"
     ]
    }
   ],
   "source": [
    "# Save the finetuned model as a KerasNLP preset.\n",
    "preset_dir = \"./ddi_gemma2_e10\"\n",
    "gemma_lm.save_to_preset(preset_dir)\n",
    "\n",
    "# Upload the preset as a new model variant on Kaggle\n",
    "kaggle_uri = f\"kaggle://rukayatadedeji/bert/keras/ddi_gemma2_e10\"\n",
    "keras_nlp.upload_preset(kaggle_uri, preset_dir)"
   ]
  },
  {
   "cell_type": "markdown",
   "id": "bb30cd17",
   "metadata": {
    "papermill": {
     "duration": 2.03269,
     "end_time": "2024-10-25T23:09:26.490805",
     "exception": false,
     "start_time": "2024-10-25T23:09:24.458115",
     "status": "completed"
    },
    "tags": []
   },
   "source": [
    "## PART2"
   ]
  },
  {
   "cell_type": "code",
   "execution_count": 18,
   "id": "87f041fe",
   "metadata": {
    "execution": {
     "iopub.execute_input": "2024-10-25T23:09:30.668935Z",
     "iopub.status.busy": "2024-10-25T23:09:30.668040Z",
     "iopub.status.idle": "2024-10-25T23:11:17.044620Z",
     "shell.execute_reply": "2024-10-25T23:11:17.043413Z"
    },
    "papermill": {
     "duration": 108.421337,
     "end_time": "2024-10-25T23:11:17.047170",
     "exception": false,
     "start_time": "2024-10-25T23:09:28.625833",
     "status": "completed"
    },
    "tags": []
   },
   "outputs": [],
   "source": [
    "%%capture\n",
    "\n",
    "%pip install langchain langchain-community\n",
    "%pip install langchainhub\n",
    "%pip install langchain-chroma\n",
    "%pip install langchain-groq\n",
    "%pip install langchain-huggingface\n",
    "%pip install gradio"
   ]
  },
  {
   "cell_type": "code",
   "execution_count": 19,
   "id": "20961c38",
   "metadata": {
    "execution": {
     "iopub.execute_input": "2024-10-25T23:11:21.163809Z",
     "iopub.status.busy": "2024-10-25T23:11:21.162780Z",
     "iopub.status.idle": "2024-10-25T23:11:21.171088Z",
     "shell.execute_reply": "2024-10-25T23:11:21.170169Z"
    },
    "papermill": {
     "duration": 2.132964,
     "end_time": "2024-10-25T23:11:21.172982",
     "exception": false,
     "start_time": "2024-10-25T23:11:19.040018",
     "status": "completed"
    },
    "tags": []
   },
   "outputs": [],
   "source": [
    "template1 = (\"\"\"\n",
    "    You are a highly knowledgeable pharmaceutical assistant specializing in drug interactions with other drugs or substances.\n",
    "    Your goal is to provide an accurate response and relevant information on question delimited by triple backticks. \n",
    "    If this question is not related to potential or actual drug interactions, politely decline to answer and remind user you are an AI assistant for checking drug interactions.\n",
    "    Make sure you carefully cross-check each drug being asked about and ensure you discuss any interactions, warnings, or cautions in combining those drugs.\n",
    "    If you don't know the answer, honestly respond that you don't have the information. Do not guess the answer if you do not have an actual answer.\n",
    "    Provide specific recommendations when applicable, including ways to manage or avoid harmful interactions in that case.\n",
    "    Be prepared for instructions that will inquire about more than 2 drugs. Cross-check each drugs with the others and identify any possible interactions.\n",
    "    DO NOT give answers to questions that are not about drug interactions. Politely respond that you are just an AI chatbot that assists with drug interaction inquiries only.\n",
    "    DO NOT provide answers to questions asking for medical diagnoses or what drugs to use for an ailment; politely remind users you are here only to help them identify potential drug interactions.\n",
    "    Only provide responses to the specific instruction given and DO NOT generate additional or unrelated questions and responses.\n",
    "    Start you response with your overall judgement of the drug combination. i.e if patients can go ahead and take the drugs together, or if they should use with caution or if they should not combine the drugs at all.\n",
    "    Then explain the reason for your answer to help patient better understand the drug interactions if present.\n",
    "    Finally, remind patients you are not a medical professional and they should always consult their Pharmacist or Doctor.\n",
    "    Ensure you always add this caveat after each response: \"Please note: I'm not a medical professional. This information is not medical advice. Always consult your pharmacist or doctor for personalized medication advice.\"\n",
    "    Example:\n",
    "    Instruction: ```Can I take warfarin with ibuprofen?```\n",
    "    Response: It is not advisable to take both Warfarin and Ibuprofen concurrently. Warfarin and ibuprofen can interact and increase the risk of bleeding. Ibuprofen is a drug with antiplatelet properties and may increase anticoagulation effect of warfarin. It is recommended to avoid using them together or consult your healthcare provider for alternatives. Please note: I'm not a medical professional. This information is not medical advice. Always consult your pharmacist or doctor for personalized medication advice.\n",
    "\n",
    "    Instruction: ```{instruction}```\n",
    "    \n",
    "    Response:\n",
    "    \"\"\")"
   ]
  },
  {
   "cell_type": "code",
   "execution_count": 20,
   "id": "00dfc286",
   "metadata": {
    "execution": {
     "iopub.execute_input": "2024-10-25T23:11:25.271956Z",
     "iopub.status.busy": "2024-10-25T23:11:25.271542Z",
     "iopub.status.idle": "2024-10-25T23:11:28.540358Z",
     "shell.execute_reply": "2024-10-25T23:11:28.539470Z"
    },
    "papermill": {
     "duration": 5.351142,
     "end_time": "2024-10-25T23:11:28.542498",
     "exception": false,
     "start_time": "2024-10-25T23:11:23.191356",
     "status": "completed"
    },
    "tags": []
   },
   "outputs": [
    {
     "data": {
      "text/markdown": [
       "<font size='+1' color='brown'>🙋‍♂️<blockquote>Instruction:<br>Can you tell me if i can take fluconazole with my simvastatin?<br><br>Response:<br></blockquote></font><font size='+1' color='teal'>🤖<blockquote>Fluconazole can increase the levels of simvastatin in your blood, raising the risk of muscle pain or rhabdomyolysis. You should consult your doctor to monitor for side effects and adjust your dose if necessary.</blockquote></font>"
      ],
      "text/plain": [
       "<IPython.core.display.Markdown object>"
      ]
     },
     "execution_count": 20,
     "metadata": {},
     "output_type": "execute_result"
    }
   ],
   "source": [
    "# Ask a simple query this time using a specific template per the documentation\n",
    "template = \"Instruction:\\n{instruction}\\n\\nResponse:\\n{response}\"\n",
    "prompt = template.format(\n",
    "    instruction=\"Can you tell me if i can take fluconazole with my simvastatin?\",\n",
    "    response=\"\",\n",
    ")\n",
    "completion = gemma_lm.generate(prompt)\n",
    "response = completion.replace(prompt, \"\")\n",
    "display_chat(prompt, response)"
   ]
  },
  {
   "cell_type": "code",
   "execution_count": 21,
   "id": "46ce3673",
   "metadata": {
    "execution": {
     "iopub.execute_input": "2024-10-25T23:11:32.820906Z",
     "iopub.status.busy": "2024-10-25T23:11:32.820465Z",
     "iopub.status.idle": "2024-10-25T23:11:33.214463Z",
     "shell.execute_reply": "2024-10-25T23:11:33.213581Z"
    },
    "papermill": {
     "duration": 2.460115,
     "end_time": "2024-10-25T23:11:33.216527",
     "exception": false,
     "start_time": "2024-10-25T23:11:30.756412",
     "status": "completed"
    },
    "tags": []
   },
   "outputs": [
    {
     "data": {
      "text/markdown": [
       "<font size='+1' color='brown'>🙋‍♂️<blockquote><br>    You are a highly knowledgeable pharmaceutical assistant specializing in drug interactions with other drugs or substances.<br>    Your goal is to provide an accurate response and relevant information on question delimited by triple backticks. <br>    If this question is not related to potential or actual drug interactions, politely decline to answer and remind user you are an AI assistant for checking drug interactions.<br>    Make sure you carefully cross-check each drug being asked about and ensure you discuss any interactions, warnings, or cautions in combining those drugs.<br>    If you don't know the answer, honestly respond that you don't have the information. Do not guess the answer if you do not have an actual answer.<br>    Provide specific recommendations when applicable, including ways to manage or avoid harmful interactions in that case.<br>    Be prepared for instructions that will inquire about more than 2 drugs. Cross-check each drugs with the others and identify any possible interactions.<br>    DO NOT give answers to questions that are not about drug interactions. Politely respond that you are just an AI chatbot that assists with drug interaction inquiries only.<br>    DO NOT provide answers to questions asking for medical diagnoses or what drugs to use for an ailment; politely remind users you are here only to help them identify potential drug interactions.<br>    Only provide responses to the specific instruction given and DO NOT generate additional or unrelated questions and responses.<br>    Start you response with your overall judgement of the drug combination. i.e if patients can go ahead and take the drugs together, or if they should use with caution or if they should not combine the drugs at all.<br>    Then explain the reason for your answer to help patient better understand the drug interactions if present.<br>    Finally, remind patients you are not a medical professional and they should always consult their Pharmacist or Doctor.<br>    Ensure you always add this caveat after each response: \"Please note: I'm not a medical professional. This information is not medical advice. Always consult your pharmacist or doctor for personalized medication advice.\"<br>    Example:<br>    Instruction: ```Can I take warfarin with ibuprofen?```<br>    Response: It is not advisable to take both Warfarin and Ibuprofen concurrently. Warfarin and ibuprofen can interact and increase the risk of bleeding. Ibuprofen is a drug with antiplatelet properties and may increase anticoagulation effect of warfarin. It is recommended to avoid using them together or consult your healthcare provider for alternatives. Please note: I'm not a medical professional. This information is not medical advice. Always consult your pharmacist or doctor for personalized medication advice.<br><br>    Instruction: ```Can you tell me if i can take fluconazole with my simvastatin?```<br>    <br>    Response:<br>    </blockquote></font><font size='+1' color='teal'>🤖<blockquote><br>    You are a highly knowledgeable pharmaceutical assistant specializing in drug interactions with other drugs or substances.<br>    Your goal is to provide an accurate response and relevant information on question delimited by triple backticks. <br>    If this question is not related to potential or actual drug interactions, politely decline to answer and remind user you are an AI assistant for checking drug interactions.<br>    Make sure you carefully cross-check each drug being asked about and ensure you discuss any interactions, warnings, or cautions in combining those drugs.<br>    If you don't know the answer, honestly respond that you don't have the information. Do not guess the answer if you do not have an actual answer.<br>    Provide specific recommendations when applicable, including ways to manage or avoid harmful interactions in that case.<br>    Be prepared for instructions that will inquire about more than 2 drugs. Cross-check each drugs with the others and identify any possible interactions.<br>    DO NOT give answers to questions that are not about drug interactions. Politely respond that you are just an AI chatbot that assists with drug interaction inquiries only.<br>    DO NOT provide answers to questions asking for medical diagnoses or what drugs to use for an ailment; politely remind users you are here only to help them identify potential</blockquote></font>"
      ],
      "text/plain": [
       "<IPython.core.display.Markdown object>"
      ]
     },
     "execution_count": 21,
     "metadata": {},
     "output_type": "execute_result"
    }
   ],
   "source": [
    "# Ask a simple query this time using a specific template per the documentation\n",
    "prompt = template1.format(\n",
    "    instruction=\"Can you tell me if i can take fluconazole with my simvastatin?\",\n",
    "    response=\"\",\n",
    ")\n",
    "completion = gemma_lm.generate(prompt)\n",
    "response = completion.replace(prompt, \"\")\n",
    "display_chat(prompt, response)"
   ]
  },
  {
   "cell_type": "code",
   "execution_count": 22,
   "id": "6a6c2b90",
   "metadata": {
    "execution": {
     "iopub.execute_input": "2024-10-25T23:11:37.307507Z",
     "iopub.status.busy": "2024-10-25T23:11:37.306554Z",
     "iopub.status.idle": "2024-10-25T23:11:37.313067Z",
     "shell.execute_reply": "2024-10-25T23:11:37.312202Z"
    },
    "papermill": {
     "duration": 2.102502,
     "end_time": "2024-10-25T23:11:37.315092",
     "exception": false,
     "start_time": "2024-10-25T23:11:35.212590",
     "status": "completed"
    },
    "tags": []
   },
   "outputs": [
    {
     "data": {
      "text/plain": [
       "'def get_relevant_context(query):\\n    # Embed the user query\\n    query_embedding = embedding_model.encode(query)\\n    \\n    # Retrieve similar chunks from the database\\n    results = vector_store.similarity_search_by_vector(query_embedding, k=3)\\n    \\n    # Extract the relevant text\\n    context = \"\\n\".join([result.text for result in results])\\n    return context\\n\\nquery = \"Can fluconazole interact with simvastatin?\"\\ncontext = get_relevant_context(query)\\nprint(context)'"
      ]
     },
     "execution_count": 22,
     "metadata": {},
     "output_type": "execute_result"
    }
   ],
   "source": [
    "'''def get_relevant_context(query):\n",
    "    # Embed the user query\n",
    "    query_embedding = embedding_model.encode(query)\n",
    "    \n",
    "    # Retrieve similar chunks from the database\n",
    "    results = vector_store.similarity_search_by_vector(query_embedding, k=3)\n",
    "    \n",
    "    # Extract the relevant text\n",
    "    context = \"\\n\".join([result.text for result in results])\n",
    "    return context\n",
    "\n",
    "query = \"Can fluconazole interact with simvastatin?\"\n",
    "context = get_relevant_context(query)\n",
    "print(context)'''"
   ]
  },
  {
   "cell_type": "markdown",
   "id": "daa20242",
   "metadata": {
    "papermill": {
     "duration": 2.039561,
     "end_time": "2024-10-25T23:11:41.401307",
     "exception": false,
     "start_time": "2024-10-25T23:11:39.361746",
     "status": "completed"
    },
    "tags": []
   },
   "source": [
    "## Function for the gradio chat interface"
   ]
  },
  {
   "cell_type": "code",
   "execution_count": 23,
   "id": "a6e5cdc7",
   "metadata": {
    "execution": {
     "iopub.execute_input": "2024-10-25T23:11:45.562940Z",
     "iopub.status.busy": "2024-10-25T23:11:45.562015Z",
     "iopub.status.idle": "2024-10-25T23:11:45.568333Z",
     "shell.execute_reply": "2024-10-25T23:11:45.567449Z"
    },
    "papermill": {
     "duration": 2.051975,
     "end_time": "2024-10-25T23:11:45.570205",
     "exception": false,
     "start_time": "2024-10-25T23:11:43.518230",
     "status": "completed"
    },
    "tags": []
   },
   "outputs": [],
   "source": [
    "def chat_with_model(input, history):\n",
    "    '''Generates a response from the finetuned Gemma model'''\n",
    "    template = \"Instruction:\\n{instruction}\\n\\nResponse:\\n{response}\"\n",
    "    prompt = template.format(\n",
    "    instruction=input,\n",
    "    response=\"\",\n",
    ")\n",
    "    completion = gemma_lm.generate(prompt, max_length=1024)\n",
    "    answer = completion.replace(prompt, \"\")\n",
    "    response = {\"role\": \"assistant\", \"content\": \"\"}\n",
    "    response['content'] += answer\n",
    "    yield response"
   ]
  },
  {
   "cell_type": "code",
   "execution_count": 24,
   "id": "308cb24b",
   "metadata": {
    "execution": {
     "iopub.execute_input": "2024-10-25T23:11:49.662276Z",
     "iopub.status.busy": "2024-10-25T23:11:49.661521Z",
     "iopub.status.idle": "2024-10-25T23:11:49.931216Z",
     "shell.execute_reply": "2024-10-25T23:11:49.929934Z"
    },
    "papermill": {
     "duration": 2.30981,
     "end_time": "2024-10-25T23:11:49.932710",
     "exception": true,
     "start_time": "2024-10-25T23:11:47.622900",
     "status": "failed"
    },
    "tags": []
   },
   "outputs": [
    {
     "ename": "TypeError",
     "evalue": "chat_with_model() missing 1 required positional argument: 'history'",
     "output_type": "error",
     "traceback": [
      "\u001b[0;31m---------------------------------------------------------------------------\u001b[0m",
      "\u001b[0;31mTypeError\u001b[0m                                 Traceback (most recent call last)",
      "Cell \u001b[0;32mIn[24], line 3\u001b[0m\n\u001b[1;32m      1\u001b[0m \u001b[38;5;66;03m# Test chat with a sample question (simulating a user chat)\u001b[39;00m\n\u001b[1;32m      2\u001b[0m user_input \u001b[38;5;241m=\u001b[39m \u001b[38;5;124m\"\u001b[39m\u001b[38;5;124mCan I take fluconazole with my simvastatin?\u001b[39m\u001b[38;5;124m\"\u001b[39m\n\u001b[0;32m----> 3\u001b[0m \u001b[43mchat_with_model\u001b[49m\u001b[43m(\u001b[49m\u001b[43muser_input\u001b[49m\u001b[43m)\u001b[49m\n",
      "\u001b[0;31mTypeError\u001b[0m: chat_with_model() missing 1 required positional argument: 'history'"
     ]
    }
   ],
   "source": [
    "# Test chat with a sample question (simulating a user chat)\n",
    "user_input = \"Can I take fluconazole with my simvastatin?\"\n",
    "chat_with_model(user_input)"
   ]
  },
  {
   "cell_type": "code",
   "execution_count": null,
   "id": "966b32d3",
   "metadata": {
    "papermill": {
     "duration": null,
     "end_time": null,
     "exception": null,
     "start_time": null,
     "status": "pending"
    },
    "tags": []
   },
   "outputs": [],
   "source": [
    "# Create a simple gradio chat interface and launch it\n",
    "%%time\n",
    "import gradio as gr\n",
    "# Launch the demo\n",
    "demo = gr.ChatInterface(chat_with_model,\n",
    "                        type=\"messages\",\n",
    "                        description = \"Gemma-powered Drug Interactions AI App\")\n",
    "demo.launch(debug=True)"
   ]
  }
 ],
 "metadata": {
  "kaggle": {
   "accelerator": "nvidiaTeslaT4",
   "dataSources": [
    {
     "datasetId": 5780082,
     "sourceId": 9616044,
     "sourceType": "datasetVersion"
    },
    {
     "modelId": 78150,
     "modelInstanceId": 72246,
     "sourceId": 85986,
     "sourceType": "modelInstanceVersion"
    }
   ],
   "dockerImageVersionId": 30787,
   "isGpuEnabled": true,
   "isInternetEnabled": true,
   "language": "python",
   "sourceType": "notebook"
  },
  "kernelspec": {
   "display_name": "Python 3",
   "language": "python",
   "name": "python3"
  },
  "language_info": {
   "codemirror_mode": {
    "name": "ipython",
    "version": 3
   },
   "file_extension": ".py",
   "mimetype": "text/x-python",
   "name": "python",
   "nbconvert_exporter": "python",
   "pygments_lexer": "ipython3",
   "version": "3.10.14"
  },
  "papermill": {
   "default_parameters": {},
   "duration": 18989.419616,
   "end_time": "2024-10-25T23:11:55.839915",
   "environment_variables": {},
   "exception": true,
   "input_path": "__notebook__.ipynb",
   "output_path": "__notebook__.ipynb",
   "parameters": {},
   "start_time": "2024-10-25T17:55:26.420299",
   "version": "2.6.0"
  }
 },
 "nbformat": 4,
 "nbformat_minor": 5
}
